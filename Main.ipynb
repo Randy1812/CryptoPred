{
 "cells": [
  {
   "cell_type": "code",
   "execution_count": 1,
   "metadata": {},
   "outputs": [],
   "source": [
    "import requests\n",
    "import csv\n",
    "import calendar,time,datetime\n",
    "import warnings\n",
    "warnings.filterwarnings(\"ignore\")\n",
    "current_time_exact= datetime.datetime.now()\n",
    "current_time=current_time_exact.strftime(\"%Y-%m-%d %H:%M:%S\")\n",
    "current_epoch_time=calendar.timegm(time.strptime(current_time, '%Y-%m-%d %H:%M:%S'))\n",
    "\n",
    "#The part of keeping it realtime(for the scope of the project (time being) this has been already downloaded)\n",
    "# currency=\"BTC\"\n",
    "# URL=\"https://query1.finance.yahoo.com/v7/finance/download/\"+currency+\"-USD?period1=\"+str(current_epoch_time)+\"&period2=\"+str(current_epoch_time+31536000)+\"&interval=1d&events=history&includeAdjustedClose=true\"\n",
    "# print(URL)\n",
    "# req = requests.get(URL)\n",
    "# url_content = req.content\n",
    "# csv_file = open('data.csv', 'wb')\n",
    "# csv_file.write(url_content)\n",
    "# csv_file.close()\n"
   ]
  },
  {
   "cell_type": "code",
   "execution_count": 2,
   "metadata": {},
   "outputs": [
    {
     "data": {
      "text/html": [
       "<div>\n",
       "<style scoped>\n",
       "    .dataframe tbody tr th:only-of-type {\n",
       "        vertical-align: middle;\n",
       "    }\n",
       "\n",
       "    .dataframe tbody tr th {\n",
       "        vertical-align: top;\n",
       "    }\n",
       "\n",
       "    .dataframe thead th {\n",
       "        text-align: right;\n",
       "    }\n",
       "</style>\n",
       "<table border=\"1\" class=\"dataframe\">\n",
       "  <thead>\n",
       "    <tr style=\"text-align: right;\">\n",
       "      <th></th>\n",
       "      <th>Date</th>\n",
       "      <th>Open</th>\n",
       "      <th>High</th>\n",
       "      <th>Low</th>\n",
       "      <th>Close</th>\n",
       "      <th>Adj Close</th>\n",
       "      <th>Volume</th>\n",
       "    </tr>\n",
       "  </thead>\n",
       "  <tbody>\n",
       "    <tr>\n",
       "      <th>0</th>\n",
       "      <td>2020-03-28</td>\n",
       "      <td>6467.253906</td>\n",
       "      <td>6467.500977</td>\n",
       "      <td>6117.837891</td>\n",
       "      <td>6242.193848</td>\n",
       "      <td>6242.193848</td>\n",
       "      <td>3.488523e+10</td>\n",
       "    </tr>\n",
       "    <tr>\n",
       "      <th>1</th>\n",
       "      <td>2020-03-29</td>\n",
       "      <td>6245.624512</td>\n",
       "      <td>6250.467285</td>\n",
       "      <td>5920.085938</td>\n",
       "      <td>5922.042969</td>\n",
       "      <td>5922.042969</td>\n",
       "      <td>2.837369e+10</td>\n",
       "    </tr>\n",
       "    <tr>\n",
       "      <th>2</th>\n",
       "      <td>2020-03-30</td>\n",
       "      <td>5925.538574</td>\n",
       "      <td>6517.195801</td>\n",
       "      <td>5903.234375</td>\n",
       "      <td>6429.841797</td>\n",
       "      <td>6429.841797</td>\n",
       "      <td>3.710165e+10</td>\n",
       "    </tr>\n",
       "    <tr>\n",
       "      <th>3</th>\n",
       "      <td>2020-03-31</td>\n",
       "      <td>6430.606445</td>\n",
       "      <td>6504.515137</td>\n",
       "      <td>6374.162109</td>\n",
       "      <td>6438.644531</td>\n",
       "      <td>6438.644531</td>\n",
       "      <td>3.278647e+10</td>\n",
       "    </tr>\n",
       "    <tr>\n",
       "      <th>4</th>\n",
       "      <td>2020-04-01</td>\n",
       "      <td>6437.319336</td>\n",
       "      <td>6612.573730</td>\n",
       "      <td>6202.373535</td>\n",
       "      <td>6606.776367</td>\n",
       "      <td>6606.776367</td>\n",
       "      <td>4.034643e+10</td>\n",
       "    </tr>\n",
       "  </tbody>\n",
       "</table>\n",
       "</div>"
      ],
      "text/plain": [
       "         Date         Open         High          Low        Close  \\\n",
       "0  2020-03-28  6467.253906  6467.500977  6117.837891  6242.193848   \n",
       "1  2020-03-29  6245.624512  6250.467285  5920.085938  5922.042969   \n",
       "2  2020-03-30  5925.538574  6517.195801  5903.234375  6429.841797   \n",
       "3  2020-03-31  6430.606445  6504.515137  6374.162109  6438.644531   \n",
       "4  2020-04-01  6437.319336  6612.573730  6202.373535  6606.776367   \n",
       "\n",
       "     Adj Close        Volume  \n",
       "0  6242.193848  3.488523e+10  \n",
       "1  5922.042969  2.837369e+10  \n",
       "2  6429.841797  3.710165e+10  \n",
       "3  6438.644531  3.278647e+10  \n",
       "4  6606.776367  4.034643e+10  "
      ]
     },
     "execution_count": 2,
     "metadata": {},
     "output_type": "execute_result"
    }
   ],
   "source": [
    "import pandas as pd\n",
    "# data = pd.read_csv(currency+\"-USD.csv\")\n",
    "df = pd.read_csv(\"BTC-USD.csv\")\n",
    "df.head()"
   ]
  },
  {
   "cell_type": "code",
   "execution_count": 3,
   "metadata": {},
   "outputs": [
    {
     "data": {
      "text/plain": [
       "Text(0, 0.5, 'Close Price (USD)')"
      ]
     },
     "execution_count": 3,
     "metadata": {},
     "output_type": "execute_result"
    },
    {
     "data": {
      "image/png": "[encoded data removed]",
      "text/plain": [
       "<Figure size 432x288 with 1 Axes>"
      ]
     },
     "metadata": {
      "needs_background": "light"
     },
     "output_type": "display_data"
    }
   ],
   "source": [
    "ax = df.plot(x='Date', y='Close');\n",
    "ax.set_xlabel(\"Date\")\n",
    "ax.set_ylabel(\"Close Price (USD)\")"
   ]
  },
  {
   "cell_type": "code",
   "execution_count": 4,
   "metadata": {},
   "outputs": [
    {
     "name": "stdout",
     "output_type": "stream",
     "text": [
      "        Adj Close  Prediction\n",
      "361  52774.265625         NaN\n",
      "362  51704.160156         NaN\n",
      "363  55137.312500         NaN\n",
      "364  55973.511719         NaN\n",
      "365  55925.078125         NaN\n"
     ]
    }
   ],
   "source": [
    "import numpy as np\n",
    "from sklearn.linear_model import LinearRegression\n",
    "from sklearn.model_selection import train_test_split\n",
    "\n",
    "#Keeping only Adjusted Close(Adj .Close) as only this will be helpful in predicting stock prices\n",
    "df=df[['Adj Close']]\n",
    "#Replacing NaN with 0\n",
    "df['Adj Close'] = df['Adj Close'].fillna(0) \n",
    "#Declaring a forecast variable('n' days) to which forecast is to be made 'n' days into the future\n",
    "forecast=30 #This means at a particular day I will be able to know the stock price after 30 days.\n",
    "#Creating a Prediction Column which is a copy of Adj .Close but with 'forcast' number of rows shifted up\n",
    "df['Prediction']=df[['Adj Close']].shift(-forecast)\n",
    "#Take a look at the new Data\n",
    "print(df.tail())"
   ]
  },
  {
   "cell_type": "code",
   "execution_count": 5,
   "metadata": {},
   "outputs": [],
   "source": [
    "#Creating X and y independent and dependent variables respectively \n",
    "X= np.array(df.drop(['Prediction'],1))#Dropping the prediction Column\n",
    "X=X[:-forecast] #Deleting the last 'n' rows\n",
    "y=np.array(df.drop(['Adj Close'],1))#Dropping the Adj Close Column\n",
    "y=y[:-forecast] #Deleting the last 'n' rows"
   ]
  },
  {
   "cell_type": "code",
   "execution_count": 6,
   "metadata": {},
   "outputs": [],
   "source": [
    "X_train,X_test,y_train,y_test=train_test_split(X,y,test_size=0.2) #Split the data into train and test\n"
   ]
  },
  {
   "cell_type": "code",
   "execution_count": 7,
   "metadata": {},
   "outputs": [
    {
     "name": "stdout",
     "output_type": "stream",
     "text": [
      "Accuracy: 0.8939606420692786\n"
     ]
    }
   ],
   "source": [
    "lr=LinearRegression()\n",
    "lr.fit(X_train,y_train)\n",
    "accuracy=lr.score(X_test,y_test)\n",
    "print(\"Accuracy:\",accuracy)"
   ]
  },
  {
   "cell_type": "code",
   "execution_count": 8,
   "metadata": {},
   "outputs": [],
   "source": [
    "#Now when we have made the model now is the forecast time,so we use the last 'n' rows of the df\n",
    "#creating X_forecast which will store the 'n' rows Adj .Close values\n",
    "x_forecast=np.array(df.drop(['Prediction'],1))\n",
    "x_forecast=x_forecast[-forecast:]\n",
    "\n"
   ]
  },
  {
   "cell_type": "code",
   "execution_count": 9,
   "metadata": {},
   "outputs": [
    {
     "name": "stdout",
     "output_type": "stream",
     "text": [
      "[[57738.09096149]\n",
      " [56433.52304604]\n",
      " [62012.78619503]\n",
      " [60457.94106525]\n",
      " [63138.95120423]\n",
      " [60684.14215678]\n",
      " [61138.75115515]\n",
      " [61120.22359893]\n",
      " [63968.92267032]\n",
      " [65260.01688188]\n",
      " [68460.4533639 ]\n",
      " [69931.09026375]\n",
      " [72161.77893307]\n",
      " [71574.44570042]\n",
      " [76430.48423647]\n",
      " [74020.75244169]\n",
      " [69805.2483864 ]\n",
      " [70919.87004906]\n",
      " [73485.08296007]\n",
      " [72228.57998823]\n",
      " [72834.16431911]\n",
      " [72793.1805881 ]\n",
      " [71812.01068218]\n",
      " [68094.20431761]\n",
      " [68354.70078904]\n",
      " [65915.2812533 ]\n",
      " [64586.59841389]\n",
      " [68849.3283379 ]\n",
      " [69887.58445826]\n",
      " [69827.44750254]]\n"
     ]
    }
   ],
   "source": [
    "#using X_forecast to make prediction for the 'n' days using the model created\n",
    "x_prediction=lr.predict(x_forecast)\n",
    "print(x_prediction)"
   ]
  },
  {
   "cell_type": "code",
   "execution_count": 10,
   "metadata": {},
   "outputs": [
    {
     "data": {
      "image/png": "[encoded data removed]",
      "text/plain": [
       "<Figure size 432x288 with 1 Axes>"
      ]
     },
     "metadata": {
      "needs_background": "light"
     },
     "output_type": "display_data"
    }
   ],
   "source": [
    "import matplotlib.pyplot as plt\n",
    "plt.plot(x_prediction, label=\"Actual Price\", color='green')\n",
    "plt.plot(x_forecast, label=\"Predicted Price\", color='red')\n",
    " \n",
    "plt.title('Bitcoin price prediction')\n",
    "plt.xlabel('Time [days]')\n",
    "plt.ylabel('Price')\n",
    "plt.legend(loc='best')\n",
    " \n",
    "plt.show();"
   ]
  },
  {
   "cell_type": "code",
   "execution_count": null,
   "metadata": {},
   "outputs": [],
   "source": []
  }
 ],
 "metadata": {
  "kernelspec": {
   "display_name": "Python 3",
   "language": "python",
   "name": "python3"
  },
  "language_info": {
   "codemirror_mode": {
    "name": "ipython",
    "version": 3
   },
   "file_extension": ".py",
   "mimetype": "text/x-python",
   "name": "python",
   "nbconvert_exporter": "python",
   "pygments_lexer": "ipython3",
   "version": "3.8.5"
  }
 },
 "nbformat": 4,
 "nbformat_minor": 4
}
